{
  "nbformat": 4,
  "nbformat_minor": 0,
  "metadata": {
    "colab": {
      "name": "3.Keras_Tutorial_2.ipynb",
      "provenance": []
    },
    "kernelspec": {
      "name": "python3",
      "display_name": "Python 3"
    }
  },
  "cells": [
    {
      "cell_type": "markdown",
      "metadata": {
        "id": "QKCrFQ3KHCFf"
      },
      "source": [
        "# Keras深度學習初體驗2\n",
        "利用keras套件，產生兩個64個神經元的深度學習模型進行訓練\n",
        "資料來源為隨機產生的1000筆訓練資料，以及100筆測試資料\n",
        "\n"
      ]
    },
    {
      "cell_type": "code",
      "metadata": {
        "id": "wRR_QxTBHAwZ",
        "colab": {
          "base_uri": "https://localhost:8080/"
        },
        "outputId": "9255f651-04df-46f5-9e36-a578a585af41"
      },
      "source": [
        "from tensorflow import keras\n",
        "from keras.models import Sequential\n",
        "from keras.layers import Dense, Dropout, Activation\n",
        "import numpy as np\n",
        "\n",
        "x_train = np.random.random((1000, 10))\n",
        "y_train = keras.utils.to_categorical(np.random.randint(10, size=(1000, 1)), num_classes=10)\n",
        "x_test = np.random.random((100, 10))\n",
        "y_test = keras.utils.to_categorical(np.random.randint(10, size=(100, 1)), num_classes=10)\n",
        "\n",
        "model = Sequential()\n",
        "model.add(Dense(64, activation='relu', input_dim=10))\n",
        "model.add(Dense(64, activation='relu'))\n",
        "model.add(Dense(10, activation='softmax'))\n",
        "sgd = keras.optimizers.SGD(lr=0.01, decay=1e-6, momentum=0.9, nesterov=True)\n",
        "model.compile(loss='categorical_crossentropy', optimizer=sgd, metrics=['accuracy'])\n",
        "\n",
        "model.fit(x_train, y_train, epochs=20, batch_size=128)\n",
        "score = model.evaluate(x_test, y_test, batch_size=128)\n",
        "print(score[1])"
      ],
      "execution_count": 1,
      "outputs": [
        {
          "output_type": "stream",
          "name": "stderr",
          "text": [
            "/usr/local/lib/python3.7/dist-packages/keras/optimizer_v2/gradient_descent.py:102: UserWarning: The `lr` argument is deprecated, use `learning_rate` instead.\n",
            "  super(SGD, self).__init__(name, **kwargs)\n"
          ]
        },
        {
          "output_type": "stream",
          "name": "stdout",
          "text": [
            "Epoch 1/20\n",
            "8/8 [==============================] - 1s 5ms/step - loss: 2.3138 - accuracy: 0.1060\n",
            "Epoch 2/20\n",
            "8/8 [==============================] - 0s 5ms/step - loss: 2.3101 - accuracy: 0.1120\n",
            "Epoch 3/20\n",
            "8/8 [==============================] - 0s 4ms/step - loss: 2.3069 - accuracy: 0.1180\n",
            "Epoch 4/20\n",
            "8/8 [==============================] - 0s 6ms/step - loss: 2.3045 - accuracy: 0.1220\n",
            "Epoch 5/20\n",
            "8/8 [==============================] - 0s 5ms/step - loss: 2.3027 - accuracy: 0.1190\n",
            "Epoch 6/20\n",
            "8/8 [==============================] - 0s 3ms/step - loss: 2.3018 - accuracy: 0.1150\n",
            "Epoch 7/20\n",
            "8/8 [==============================] - 0s 6ms/step - loss: 2.3004 - accuracy: 0.1150\n",
            "Epoch 8/20\n",
            "8/8 [==============================] - 0s 7ms/step - loss: 2.2994 - accuracy: 0.1180\n",
            "Epoch 9/20\n",
            "8/8 [==============================] - 0s 6ms/step - loss: 2.2984 - accuracy: 0.1200\n",
            "Epoch 10/20\n",
            "8/8 [==============================] - 0s 5ms/step - loss: 2.2972 - accuracy: 0.1200\n",
            "Epoch 11/20\n",
            "8/8 [==============================] - 0s 4ms/step - loss: 2.2964 - accuracy: 0.1210\n",
            "Epoch 12/20\n",
            "8/8 [==============================] - 0s 4ms/step - loss: 2.2956 - accuracy: 0.1220\n",
            "Epoch 13/20\n",
            "8/8 [==============================] - 0s 5ms/step - loss: 2.2950 - accuracy: 0.1260\n",
            "Epoch 14/20\n",
            "8/8 [==============================] - 0s 4ms/step - loss: 2.2940 - accuracy: 0.1290\n",
            "Epoch 15/20\n",
            "8/8 [==============================] - 0s 4ms/step - loss: 2.2935 - accuracy: 0.1260\n",
            "Epoch 16/20\n",
            "8/8 [==============================] - 0s 4ms/step - loss: 2.2927 - accuracy: 0.1330\n",
            "Epoch 17/20\n",
            "8/8 [==============================] - 0s 4ms/step - loss: 2.2921 - accuracy: 0.1260\n",
            "Epoch 18/20\n",
            "8/8 [==============================] - 0s 4ms/step - loss: 2.2914 - accuracy: 0.1270\n",
            "Epoch 19/20\n",
            "8/8 [==============================] - 0s 5ms/step - loss: 2.2907 - accuracy: 0.1300\n",
            "Epoch 20/20\n",
            "8/8 [==============================] - 0s 7ms/step - loss: 2.2900 - accuracy: 0.1330\n",
            "1/1 [==============================] - 0s 361ms/step - loss: 2.3014 - accuracy: 0.1000\n",
            "0.10000000149011612\n"
          ]
        }
      ]
    }
  ]
}